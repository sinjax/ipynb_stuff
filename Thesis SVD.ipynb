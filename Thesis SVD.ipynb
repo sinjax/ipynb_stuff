{
 "metadata": {
  "name": ""
 },
 "nbformat": 3,
 "nbformat_minor": 0,
 "worksheets": [
  {
   "cells": [
    {
     "cell_type": "markdown",
     "metadata": {},
     "source": [
      "This is a reproduction of the toy exmaple in my thesis. The numbers are not exactly the same, i can't remember why this is. I think I must have done some sort of feature rescaling or something along those lines. Either way the theory and final results are correct so let's just go with it.\n",
      "\n",
      "First lets import all of pylab"
     ]
    },
    {
     "cell_type": "code",
     "collapsed": false,
     "input": [
      "from pylab import *"
     ],
     "language": "python",
     "metadata": {},
     "outputs": [],
     "prompt_number": 176
    },
    {
     "cell_type": "markdown",
     "metadata": {},
     "source": [
      "Now lets input the array as it exists in the thesis"
     ]
    },
    {
     "cell_type": "code",
     "collapsed": false,
     "input": [
      "arr = array([[3,3,0,0],[3,1,0,1],[5,2,1,3],[0,1,8,8],[0,0,5,2],[0,0.2,1,1],[0,0,1,1],[0.8,0.4,0,0],[1,1,0,0]])"
     ],
     "language": "python",
     "metadata": {},
     "outputs": [],
     "prompt_number": 177
    },
    {
     "cell_type": "markdown",
     "metadata": {},
     "source": [
      "Check it looks reasonable."
     ]
    },
    {
     "cell_type": "code",
     "collapsed": false,
     "input": [
      "arr"
     ],
     "language": "python",
     "metadata": {},
     "outputs": [
      {
       "metadata": {},
       "output_type": "pyout",
       "prompt_number": 178,
       "text": [
        "array([[ 3. ,  3. ,  0. ,  0. ],\n",
        "       [ 3. ,  1. ,  0. ,  1. ],\n",
        "       [ 5. ,  2. ,  1. ,  3. ],\n",
        "       [ 0. ,  1. ,  8. ,  8. ],\n",
        "       [ 0. ,  0. ,  5. ,  2. ],\n",
        "       [ 0. ,  0.2,  1. ,  1. ],\n",
        "       [ 0. ,  0. ,  1. ,  1. ],\n",
        "       [ 0.8,  0.4,  0. ,  0. ],\n",
        "       [ 1. ,  1. ,  0. ,  0. ]])"
       ]
      }
     ],
     "prompt_number": 178
    },
    {
     "cell_type": "markdown",
     "metadata": {},
     "source": [
      "This doesn't matter in terms of the information we store, but changes things in terms of multiplications. Basically we're going to say a \"document\" (an image in this case) is going to be held in the rows of the matrix instead of columns."
     ]
    },
    {
     "cell_type": "code",
     "collapsed": false,
     "input": [
      "arr = arr.T"
     ],
     "language": "python",
     "metadata": {},
     "outputs": [],
     "prompt_number": 179
    },
    {
     "cell_type": "code",
     "collapsed": false,
     "input": [
      "arr"
     ],
     "language": "python",
     "metadata": {},
     "outputs": [
      {
       "metadata": {},
       "output_type": "pyout",
       "prompt_number": 180,
       "text": [
        "array([[ 3. ,  3. ,  5. ,  0. ,  0. ,  0. ,  0. ,  0.8,  1. ],\n",
        "       [ 3. ,  1. ,  2. ,  1. ,  0. ,  0.2,  0. ,  0.4,  1. ],\n",
        "       [ 0. ,  0. ,  1. ,  8. ,  5. ,  1. ,  1. ,  0. ,  0. ],\n",
        "       [ 0. ,  1. ,  3. ,  8. ,  2. ,  1. ,  1. ,  0. ,  0. ]])"
       ]
      }
     ],
     "prompt_number": 180
    },
    {
     "cell_type": "markdown",
     "metadata": {},
     "source": [
      "Great! Now let's do an SVD."
     ]
    },
    {
     "cell_type": "code",
     "collapsed": false,
     "input": [
      "U,s,Vt = svd(arr)"
     ],
     "language": "python",
     "metadata": {},
     "outputs": [],
     "prompt_number": 181
    },
    {
     "cell_type": "code",
     "collapsed": false,
     "input": [
      "s"
     ],
     "language": "python",
     "metadata": {},
     "outputs": [
      {
       "metadata": {},
       "output_type": "pyout",
       "prompt_number": 182,
       "text": [
        "array([ 13.04423664,   7.4472274 ,   2.20765616,   1.53393246])"
       ]
      }
     ],
     "prompt_number": 182
    },
    {
     "cell_type": "markdown",
     "metadata": {},
     "source": [
      "Now a few things to note here. Firstly you might notice the s given by this SVD is just a vector. That is because it is a vector of eigen values. To make the multiplication work, we need a matrix with s and its diagonals, let's do that now."
     ]
    },
    {
     "cell_type": "code",
     "collapsed": false,
     "input": [
      "S = diag(s)"
     ],
     "language": "python",
     "metadata": {},
     "outputs": [],
     "prompt_number": 183
    },
    {
     "cell_type": "markdown",
     "metadata": {},
     "source": [
      "Great! Now we should be able to do U . S . Vt in order to get back our original matrix, let's try!"
     ]
    },
    {
     "cell_type": "code",
     "collapsed": false,
     "input": [
      "arr - U.dot(S).dot(Vt)"
     ],
     "language": "python",
     "metadata": {},
     "outputs": [
      {
       "ename": "ValueError",
       "evalue": "matrices are not aligned",
       "output_type": "pyerr",
       "traceback": [
        "\u001b[0;31m---------------------------------------------------------------------------\u001b[0m\n\u001b[0;31mValueError\u001b[0m                                Traceback (most recent call last)",
        "\u001b[0;32m<ipython-input-184-26b6d44048aa>\u001b[0m in \u001b[0;36m<module>\u001b[0;34m()\u001b[0m\n\u001b[0;32m----> 1\u001b[0;31m \u001b[0marr\u001b[0m \u001b[0;34m-\u001b[0m \u001b[0mU\u001b[0m\u001b[0;34m.\u001b[0m\u001b[0mdot\u001b[0m\u001b[0;34m(\u001b[0m\u001b[0mS\u001b[0m\u001b[0;34m)\u001b[0m\u001b[0;34m.\u001b[0m\u001b[0mdot\u001b[0m\u001b[0;34m(\u001b[0m\u001b[0mVt\u001b[0m\u001b[0;34m)\u001b[0m\u001b[0;34m\u001b[0m\u001b[0m\n\u001b[0m",
        "\u001b[0;31mValueError\u001b[0m: matrices are not aligned"
       ]
      }
     ],
     "prompt_number": 184
    },
    {
     "cell_type": "markdown",
     "metadata": {},
     "source": [
      "oh! Ah ok the problem here is with the shape of U and Vt, let's invetigate this."
     ]
    },
    {
     "cell_type": "code",
     "collapsed": false,
     "input": [
      "U.shape"
     ],
     "language": "python",
     "metadata": {},
     "outputs": [
      {
       "metadata": {},
       "output_type": "pyout",
       "prompt_number": 185,
       "text": [
        "(4, 4)"
       ]
      }
     ],
     "prompt_number": 185
    },
    {
     "cell_type": "code",
     "collapsed": false,
     "input": [
      "Vt.shape"
     ],
     "language": "python",
     "metadata": {},
     "outputs": [
      {
       "metadata": {},
       "output_type": "pyout",
       "prompt_number": 186,
       "text": [
        "(9, 9)"
       ]
      }
     ],
     "prompt_number": 186
    },
    {
     "cell_type": "markdown",
     "metadata": {},
     "source": [
      "Ah hah! What has happened here is that U and Vt have been forced to be square. This is mathemtically correct as long as the S matrix is padded with the appropriate amount of zeros. The other option is to fire svd in a way that forces the shape of Vt to be correct. In matlab this is called \"econ\". In python we do this:"
     ]
    },
    {
     "cell_type": "code",
     "collapsed": false,
     "input": [
      "U,s,Vt = svd(arr,full_matrices=0)"
     ],
     "language": "python",
     "metadata": {},
     "outputs": [],
     "prompt_number": 187
    },
    {
     "cell_type": "code",
     "collapsed": false,
     "input": [
      "Vt.shape"
     ],
     "language": "python",
     "metadata": {},
     "outputs": [
      {
       "metadata": {},
       "output_type": "pyout",
       "prompt_number": 188,
       "text": [
        "(4, 9)"
       ]
      }
     ],
     "prompt_number": 188
    },
    {
     "cell_type": "code",
     "collapsed": false,
     "input": [
      "S = diag(s)"
     ],
     "language": "python",
     "metadata": {},
     "outputs": [],
     "prompt_number": 189
    },
    {
     "cell_type": "markdown",
     "metadata": {},
     "source": [
      "And now we can do:"
     ]
    },
    {
     "cell_type": "code",
     "collapsed": false,
     "input": [
      "(arr - U.dot(S).dot(Vt)).sum()"
     ],
     "language": "python",
     "metadata": {},
     "outputs": [
      {
       "metadata": {},
       "output_type": "pyout",
       "prompt_number": 190,
       "text": [
        "2.0011770018868447e-14"
       ]
      }
     ],
     "prompt_number": 190
    },
    {
     "cell_type": "markdown",
     "metadata": {},
     "source": [
      "A very small number! Excellent. Now let's use our SVD to do a projection of a novel document. First let's have a look at S:"
     ]
    },
    {
     "cell_type": "code",
     "collapsed": false,
     "input": [
      "diag(S)"
     ],
     "language": "python",
     "metadata": {},
     "outputs": [
      {
       "metadata": {},
       "output_type": "pyout",
       "prompt_number": 191,
       "text": [
        "array([ 13.04423664,   7.4472274 ,   2.20765616,   1.53393246])"
       ]
      }
     ],
     "prompt_number": 191
    },
    {
     "cell_type": "markdown",
     "metadata": {},
     "source": [
      "Note the final value of S is very small,this means our data is actually only 3 dimensional, so let's shave that extra eigen vector off (this is called rank reduction)"
     ]
    },
    {
     "cell_type": "code",
     "collapsed": false,
     "input": [
      "choose_dim = 3"
     ],
     "language": "python",
     "metadata": {},
     "outputs": [],
     "prompt_number": 192
    },
    {
     "cell_type": "code",
     "collapsed": false,
     "input": [
      "dtest = array([[0,0,0,0,0,0,1,1,0]])"
     ],
     "language": "python",
     "metadata": {},
     "outputs": [],
     "prompt_number": 193
    },
    {
     "cell_type": "code",
     "collapsed": false,
     "input": [
      "dproj = dtest.dot(Vt[:choose_dim,:].T.dot(inv(S[:choose_dim,:choose_dim])))"
     ],
     "language": "python",
     "metadata": {},
     "outputs": [],
     "prompt_number": 194
    },
    {
     "cell_type": "code",
     "collapsed": false,
     "input": [
      "dproj"
     ],
     "language": "python",
     "metadata": {},
     "outputs": [
      {
       "metadata": {},
       "output_type": "pyout",
       "prompt_number": 195,
       "text": [
        "array([[-0.00916353,  0.01069291,  0.01024805]])"
       ]
      }
     ],
     "prompt_number": 195
    },
    {
     "cell_type": "code",
     "collapsed": false,
     "input": [
      "from scipy.spatial.distance import cdist"
     ],
     "language": "python",
     "metadata": {},
     "outputs": [],
     "prompt_number": 196
    },
    {
     "cell_type": "code",
     "collapsed": false,
     "input": [
      "cdist(dproj,U[:,:choose_dim],'cosine')"
     ],
     "language": "python",
     "metadata": {},
     "outputs": [
      {
       "metadata": {},
       "output_type": "pyout",
       "prompt_number": 197,
       "text": [
        "array([[ 0.3085211 ,  0.05534155,  0.43762966,  1.0421961 ]])"
       ]
      }
     ],
     "prompt_number": 197
    },
    {
     "cell_type": "markdown",
     "metadata": {},
     "source": [
      "Here we have correctly shown the final document achieves the heighest cosine distance (and theirfore most similar angle) with the query. Which is correct as we were looking for a driving, natural scene."
     ]
    },
    {
     "cell_type": "code",
     "collapsed": false,
     "input": [],
     "language": "python",
     "metadata": {},
     "outputs": []
    }
   ],
   "metadata": {}
  }
 ]
}